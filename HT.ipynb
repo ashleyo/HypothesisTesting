{
 "cells": [
  {
   "attachments": {},
   "cell_type": "markdown",
   "metadata": {},
   "source": [
    "# Hypothesis Testing \n",
    "\n",
    "## Hypothesis - Conservative party candidates get more votes in constituencies with higher median incomes\n",
    "\n",
    "### Data sources\n",
    "\n",
    "We shall be using two data sources\n",
    "\n",
    "1. `ge2015-results.csv` (provided). Note, in practice it would be quicker to filter/drop columns using Data Wrangler,¿but we'll do thépandas work ourselves\n",
    "\n",
    "1. `Work Parliamentary Constituency Table 9.7b   Annual pay - Gross 2015 CV.xls` downloaded from ONS. XLS file so will need turning into a CSV first and 'non-data components' . Pandas can load XLS - but we would have to trim the file anyway so might as well make it a CSV."
   ]
  },
  {
   "attachments": {},
   "cell_type": "markdown",
   "metadata": {},
   "source": [
    "Pandas has already been installed `pip install pandas` into a suitable `venv` so let.s start with the first file.\n",
    "\n",
    " For executing in a notebook in a venv we will also need the ipykernel package, `python -m pip install ipykernel -U --dorce-reinstall`. Recently the ipykernel installation was removed from the default venv (in Visual Code) to make creating a venv faster."
   ]
  },
  {
   "cell_type": "code",
   "execution_count": 251,
   "metadata": {},
   "outputs": [
    {
     "name": "stdout",
     "output_type": "stream",
     "text": [
      "         ons_id ons_region_id constituency_name      county_name  \\\n",
      "0     W07000049     W92000004          Aberavon   West Glamorgan   \n",
      "1     W07000049     W92000004          Aberavon   West Glamorgan   \n",
      "2     W07000049     W92000004          Aberavon   West Glamorgan   \n",
      "3     W07000049     W92000004          Aberavon   West Glamorgan   \n",
      "4     W07000049     W92000004          Aberavon   West Glamorgan   \n",
      "...         ...           ...               ...              ...   \n",
      "3966  E14001062     E12000003        York Outer  North Yorkshire   \n",
      "3967  E14001062     E12000003        York Outer  North Yorkshire   \n",
      "3968  E14001062     E12000003        York Outer  North Yorkshire   \n",
      "3969  E14001062     E12000003        York Outer  North Yorkshire   \n",
      "3970  E14001062     E12000003        York Outer  North Yorkshire   \n",
      "\n",
      "                   region_name country_name constituency_type  \\\n",
      "0                        Wales        Wales            County   \n",
      "1                        Wales        Wales            County   \n",
      "2                        Wales        Wales            County   \n",
      "3                        Wales        Wales            County   \n",
      "4                        Wales        Wales            County   \n",
      "...                        ...          ...               ...   \n",
      "3966  Yorkshire and The Humber      England            County   \n",
      "3967  Yorkshire and The Humber      England            County   \n",
      "3968  Yorkshire and The Humber      England            County   \n",
      "3969  Yorkshire and The Humber      England            County   \n",
      "3970  Yorkshire and The Humber      England            County   \n",
      "\n",
      "                 party_name party_abbreviation firstname    surname  gender  \\\n",
      "0                    Labour                Lab   Stephen    Kinnock    Male   \n",
      "1     UK Independence Party               UKIP     Peter       Bush    Male   \n",
      "2              Conservative                Con    Edward      Yi He    Male   \n",
      "3               Plaid Cymru                 PC    Duncan    Higgitt    Male   \n",
      "4          Liberal Democrat                 LD     Helen     Clarke  Female   \n",
      "...                     ...                ...       ...        ...     ...   \n",
      "3966           Conservative                Con    Julian     Sturdy    Male   \n",
      "3967                 Labour                Lab       Joe     Riches    Male   \n",
      "3968       Liberal Democrat                 LD     James  Blanchard    Male   \n",
      "3969  UK Independence Party               UKIP      Paul     Abbott    Male   \n",
      "3970                  Green              Green    Ginnie       Shaw  Female   \n",
      "\n",
      "     sitting_mp former_mp  votes     share    change  \n",
      "0            No        No  15416  0.489040 -0.030148  \n",
      "1            No        No   4971  0.157694  0.141899  \n",
      "2            No        No   3742  0.118707 -0.023776  \n",
      "3            No        No   3663  0.116201  0.045201  \n",
      "4            No        No   1397  0.044317 -0.118291  \n",
      "...         ...       ...    ...       ...       ...  \n",
      "3966        Yes       Yes  26477  0.491197  0.061328  \n",
      "3967         No        No  13348  0.247630  0.076748  \n",
      "3968         No        No   6269  0.116302 -0.244374  \n",
      "3969         No        No   5251  0.097416  0.076778  \n",
      "3970         No        No   2558  0.047456       NaN  \n",
      "\n",
      "[3971 rows x 17 columns]\n",
      "['ons_id', 'ons_region_id', 'constituency_name', 'county_name', 'region_name', 'country_name', 'constituency_type', 'party_name', 'party_abbreviation', 'firstname', 'surname', 'gender', 'sitting_mp', 'former_mp', 'votes', 'share', 'change']\n"
     ]
    }
   ],
   "source": [
    "import pandas as pd\n",
    "\n",
    "df = pd.read_csv('ge2015-results.csv')\n",
    "\n",
    "print(df)\n",
    "\n",
    "columns = df.columns.values.tolist()\n",
    "print(columns)"
   ]
  },
  {
   "attachments": {},
   "cell_type": "markdown",
   "metadata": {},
   "source": [
    "The current columns are\n",
    "```\n",
    "ons_id,ons_region_id,constituency_name,county_name,region_name,country_name,constituency_type,party_name,party_abbreviation,firstname,surname,gender,sitting_mp,former_mp,votes,share,change\n",
    "\n",
    "```\n",
    "of these we will keep only `ons_id,constituency_name,country_name,party_abbreviation,votes`\n",
    "\n",
    "The `ons_id` is a useful unique identifier, `constituency_name` is more human-readable, `country-name` because the conservative party does not exist in N.I. so we might wish to exclude those constituencies later, `party_abbreviation` as a shorter and easier proxy for party_name and `votes`. \n"
   ]
  },
  {
   "cell_type": "code",
   "execution_count": 252,
   "metadata": {},
   "outputs": [
    {
     "name": "stdout",
     "output_type": "stream",
     "text": [
      "['ons_region_id', 'county_name', 'region_name', 'constituency_type', 'party_name', 'firstname', 'surname', 'gender', 'sitting_mp', 'former_mp', 'share', 'change']\n",
      "         ons_id constituency_name country_name party_abbreviation  votes\n",
      "0     W07000049          Aberavon        Wales                Lab  15416\n",
      "1     W07000049          Aberavon        Wales               UKIP   4971\n",
      "2     W07000049          Aberavon        Wales                Con   3742\n",
      "3     W07000049          Aberavon        Wales                 PC   3663\n",
      "4     W07000049          Aberavon        Wales                 LD   1397\n",
      "...         ...               ...          ...                ...    ...\n",
      "3966  E14001062        York Outer      England                Con  26477\n",
      "3967  E14001062        York Outer      England                Lab  13348\n",
      "3968  E14001062        York Outer      England                 LD   6269\n",
      "3969  E14001062        York Outer      England               UKIP   5251\n",
      "3970  E14001062        York Outer      England              Green   2558\n",
      "\n",
      "[3971 rows x 5 columns]\n"
     ]
    }
   ],
   "source": [
    "drop_columns = [c for c in columns if c not in ['ons_id','constituency_name','country_name','party_abbreviation','votes']] \n",
    "print(drop_columns)\n",
    "df.drop(columns=drop_columns, inplace=True)\n",
    "print(df)"
   ]
  },
  {
   "attachments": {},
   "cell_type": "markdown",
   "metadata": {},
   "source": [
    "and we'll want to filer down to just 'Con' for party and ['England',Wales','Scotland'] for country_name"
   ]
  },
  {
   "cell_type": "code",
   "execution_count": 253,
   "metadata": {},
   "outputs": [
    {
     "name": "stdout",
     "output_type": "stream",
     "text": [
      "         ons_id          constituency_name country_name party_abbreviation  \\\n",
      "2     W07000049                   Aberavon        Wales                Con   \n",
      "9     W07000058                  Aberconwy        Wales                Con   \n",
      "17    S14000001             Aberdeen North     Scotland                Con   \n",
      "23    S14000002             Aberdeen South     Scotland                Con   \n",
      "30    S14000003         Airdrie and Shotts     Scotland                Con   \n",
      "...         ...                        ...          ...                ...   \n",
      "3942  E14001059  Wythenshawe and Sale East      England                Con   \n",
      "3948  E14001060                     Yeovil      England                Con   \n",
      "3955  W07000041                   Ynys Mon        Wales                Con   \n",
      "3960  E14001061               York Central      England                Con   \n",
      "3966  E14001062                 York Outer      England                Con   \n",
      "\n",
      "      votes  \n",
      "2      3742  \n",
      "9     12513  \n",
      "17     5304  \n",
      "23    11087  \n",
      "30     3389  \n",
      "...     ...  \n",
      "3942  11124  \n",
      "3948  24178  \n",
      "3955   7393  \n",
      "3960  13496  \n",
      "3966  26477  \n",
      "\n",
      "[631 rows x 5 columns]\n"
     ]
    }
   ],
   "source": [
    "df = df[df['party_abbreviation']==\"Con\"]\n",
    "df = df[df['country_name']!='Northern Ireland']\n",
    "print(df)\n"
   ]
  },
  {
   "attachments": {},
   "cell_type": "markdown",
   "metadata": {},
   "source": [
    "And we should have a look at the SOCS.\n"
   ]
  },
  {
   "cell_type": "code",
   "execution_count": 254,
   "metadata": {},
   "outputs": [
    {
     "data": {
      "text/html": [
       "<div>\n",
       "<style scoped>\n",
       "    .dataframe tbody tr th:only-of-type {\n",
       "        vertical-align: middle;\n",
       "    }\n",
       "\n",
       "    .dataframe tbody tr th {\n",
       "        vertical-align: top;\n",
       "    }\n",
       "\n",
       "    .dataframe thead th {\n",
       "        text-align: right;\n",
       "    }\n",
       "</style>\n",
       "<table border=\"1\" class=\"dataframe\">\n",
       "  <thead>\n",
       "    <tr style=\"text-align: right;\">\n",
       "      <th></th>\n",
       "      <th>votes</th>\n",
       "    </tr>\n",
       "  </thead>\n",
       "  <tbody>\n",
       "    <tr>\n",
       "      <th>count</th>\n",
       "      <td>631.000000</td>\n",
       "    </tr>\n",
       "    <tr>\n",
       "      <th>mean</th>\n",
       "      <td>17893.112520</td>\n",
       "    </tr>\n",
       "    <tr>\n",
       "      <th>std</th>\n",
       "      <td>9068.549728</td>\n",
       "    </tr>\n",
       "    <tr>\n",
       "      <th>min</th>\n",
       "      <td>1215.000000</td>\n",
       "    </tr>\n",
       "    <tr>\n",
       "      <th>25%</th>\n",
       "      <td>9568.000000</td>\n",
       "    </tr>\n",
       "    <tr>\n",
       "      <th>50%</th>\n",
       "      <td>18684.000000</td>\n",
       "    </tr>\n",
       "    <tr>\n",
       "      <th>75%</th>\n",
       "      <td>25510.000000</td>\n",
       "    </tr>\n",
       "    <tr>\n",
       "      <th>max</th>\n",
       "      <td>36607.000000</td>\n",
       "    </tr>\n",
       "  </tbody>\n",
       "</table>\n",
       "</div>"
      ],
      "text/plain": [
       "              votes\n",
       "count    631.000000\n",
       "mean   17893.112520\n",
       "std     9068.549728\n",
       "min     1215.000000\n",
       "25%     9568.000000\n",
       "50%    18684.000000\n",
       "75%    25510.000000\n",
       "max    36607.000000"
      ]
     },
     "execution_count": 254,
     "metadata": {},
     "output_type": "execute_result"
    }
   ],
   "source": [
    "df.describe()\n"
   ]
  },
  {
   "cell_type": "code",
   "execution_count": 255,
   "metadata": {},
   "outputs": [
    {
     "data": {
      "text/plain": [
       "array([[<Axes: title={'center': 'votes'}>]], dtype=object)"
      ]
     },
     "execution_count": 255,
     "metadata": {},
     "output_type": "execute_result"
    },
    {
     "data": {
      "image/png": "[encoded data removed]",
      "text/plain": [
       "<Figure size 640x480 with 1 Axes>"
      ]
     },
     "metadata": {},
     "output_type": "display_data"
    }
   ],
   "source": [
    "df.hist(column=['votes'],bins=15)"
   ]
  },
  {
   "attachments": {},
   "cell_type": "markdown",
   "metadata": {},
   "source": [
    "The distribution is bi-modal which is probably not too surprising given two main parties. "
   ]
  },
  {
   "cell_type": "markdown",
   "metadata": {},
   "source": [
    "\n",
    "So much for data-source 1. On to 2.\n",
    "\n",
    "The columns of interest were cut out and saved as CSV to give `MedianIncomes.csv`. The column headings were lost in the process so provide some names"
   ]
  },
  {
   "cell_type": "code",
   "execution_count": 256,
   "metadata": {},
   "outputs": [
    {
     "name": "stdout",
     "output_type": "stream",
     "text": [
      "                          constituency         id median_pay(k)\n",
      "0                   Berwick-upon-Tweed  E14000554          16.0\n",
      "1                      Bishop Auckland  E14000569          22.0\n",
      "2                              Blaydon  E14000574          13.0\n",
      "3                         Blyth Valley  E14000575          11.0\n",
      "4                       City of Durham  E14000641           7.1\n",
      "..                                 ...        ...           ...\n",
      "637            Ross, Skye and Lochaber  S14000055          12.0\n",
      "638       Rutherglen and Hamilton West  S14000056          11.0\n",
      "639                           Stirling  S14000057           7.3\n",
      "640  West Aberdeenshire and Kincardine  S14000058          10.0\n",
      "641                West Dunbartonshire  S14000059          11.0\n",
      "\n",
      "[642 rows x 3 columns]\n"
     ]
    }
   ],
   "source": [
    "mi = pd.read_csv('MedianIncomes.csv', names=['constituency', 'id', 'number_of_jobs','median_pay(k)'])\n",
    "mi.drop(columns=['number_of_jobs'], inplace=True)\n",
    "print(mi)"
   ]
  },
  {
   "attachments": {},
   "cell_type": "markdown",
   "metadata": {},
   "source": [
    "Now we can try joining them on the id fields and drop fields common to both and where all rows are identical anyway ('Con')"
   ]
  },
  {
   "cell_type": "code",
   "execution_count": 257,
   "metadata": {},
   "outputs": [
    {
     "name": "stdout",
     "output_type": "stream",
     "text": [
      "        ons_id          constituency_name country_name  votes median_pay(k)\n",
      "0    W07000049                   Aberavon        Wales   3742          11.0\n",
      "1    W07000058                  Aberconwy        Wales  12513          13.0\n",
      "2    S14000001             Aberdeen North     Scotland   5304           7.4\n",
      "3    S14000002             Aberdeen South     Scotland  11087          20.0\n",
      "4    S14000003         Airdrie and Shotts     Scotland   3389           7.0\n",
      "..         ...                        ...          ...    ...           ...\n",
      "626  E14001059  Wythenshawe and Sale East      England  11124          19.0\n",
      "627  E14001060                     Yeovil      England  24178           5.8\n",
      "628  W07000041                   Ynys Mon        Wales   7393          11.0\n",
      "629  E14001061               York Central      England  13496           6.1\n",
      "630  E14001062                 York Outer      England  26477          17.0\n",
      "\n",
      "[631 rows x 5 columns]\n"
     ]
    }
   ],
   "source": [
    "merged = pd.merge(df,mi,left_on='ons_id',right_on='id')\n",
    "merged.drop(columns=['constituency','id','party_abbreviation'], inplace=True)\n",
    "print(merged)"
   ]
  },
  {
   "attachments": {},
   "cell_type": "markdown",
   "metadata": {},
   "source": [
    "Let's see what we have. We'll need `matplotlib` so `pip install matplotlib`. Also note that the 'median_pay` has ended up as an object not a number so will need casting"
   ]
  },
  {
   "cell_type": "code",
   "execution_count": 258,
   "metadata": {},
   "outputs": [
    {
     "name": "stdout",
     "output_type": "stream",
     "text": [
      "<class 'pandas.core.frame.DataFrame'>\n",
      "Index: 616 entries, 0 to 630\n",
      "Data columns (total 5 columns):\n",
      " #   Column             Non-Null Count  Dtype  \n",
      "---  ------             --------------  -----  \n",
      " 0   ons_id             616 non-null    object \n",
      " 1   constituency_name  616 non-null    object \n",
      " 2   country_name       616 non-null    object \n",
      " 3   votes              616 non-null    int64  \n",
      " 4   median_pay(k)      616 non-null    float64\n",
      "dtypes: float64(1), int64(1), object(3)\n",
      "memory usage: 28.9+ KB\n",
      "None\n",
      "        ons_id          constituency_name country_name  votes  median_pay(k)\n",
      "0    W07000049                   Aberavon        Wales   3742           11.0\n",
      "1    W07000058                  Aberconwy        Wales  12513           13.0\n",
      "2    S14000001             Aberdeen North     Scotland   5304            7.4\n",
      "3    S14000002             Aberdeen South     Scotland  11087           20.0\n",
      "4    S14000003         Airdrie and Shotts     Scotland   3389            7.0\n",
      "..         ...                        ...          ...    ...            ...\n",
      "626  E14001059  Wythenshawe and Sale East      England  11124           19.0\n",
      "627  E14001060                     Yeovil      England  24178            5.8\n",
      "628  W07000041                   Ynys Mon        Wales   7393           11.0\n",
      "629  E14001061               York Central      England  13496            6.1\n",
      "630  E14001062                 York Outer      England  26477           17.0\n",
      "\n",
      "[616 rows x 5 columns]\n"
     ]
    },
    {
     "data": {
      "text/plain": [
       "<Axes: xlabel='median_pay(k)', ylabel='votes'>"
      ]
     },
     "execution_count": 258,
     "metadata": {},
     "output_type": "execute_result"
    },
    {
     "data": {
      "image/png": "[encoded data removed]",
      "text/plain": [
       "<Figure size 640x480 with 1 Axes>"
      ]
     },
     "metadata": {},
     "output_type": "display_data"
    }
   ],
   "source": [
    "merged['median_pay(k)']=pd.to_numeric(merged['median_pay(k)'], errors='coerce')\n",
    "merged.dropna(inplace=True)\n",
    "\n",
    "print(merged.info())\n",
    "print(merged)\n",
    "\n",
    "merged.plot.scatter(x='median_pay(k)', y='votes', color='#1f77b4', alpha=.5)\n",
    "\n"
   ]
  },
  {
   "attachments": {},
   "cell_type": "markdown",
   "metadata": {},
   "source": [
    "It seems fairly clear that there is no simple correlation between these values, but just for completeness we'll calculate an r-squared anyway. \n",
    "\n",
    "> A little caution here ... while there is clearly no worthwhile line of best-fit on the data as a whole, we also notice that the top six constituencies by median income all had over 15000 votes, significantly above average. Similarly - if less obviously - the lowest median income constituencies were below-average for votes. It would be recommended to compare the top and bottom quartiles for _differences_ before reaching dogmatic conclusions about 'no relationship'"
   ]
  },
  {
   "cell_type": "code",
   "execution_count": 260,
   "metadata": {},
   "outputs": [
    {
     "data": {
      "text/plain": [
       "PearsonRResult(statistic=0.1056359058202748, pvalue=0.008694620408298678)"
      ]
     },
     "execution_count": 260,
     "metadata": {},
     "output_type": "execute_result"
    }
   ],
   "source": [
    "from scipy.stats import pearsonr\n",
    "\n",
    "pearsonr(merged['votes'], merged['median_pay(k)'])\n"
   ]
  },
  {
   "attachments": {},
   "cell_type": "markdown",
   "metadata": {},
   "source": [
    "and since the pvalue is <0.05 - quite a bit less - we can tentatively assume that there is a statistically significant correlation between votes and income"
   ]
  },
  {
   "cell_type": "code",
   "execution_count": 261,
   "metadata": {},
   "outputs": [
    {
     "name": "stdout",
     "output_type": "stream",
     "text": [
      "                            OLS Regression Results                            \n",
      "==============================================================================\n",
      "Dep. Variable:                  votes   R-squared:                       0.011\n",
      "Model:                            OLS   Adj. R-squared:                  0.010\n",
      "Method:                 Least Squares   F-statistic:                     6.929\n",
      "Date:                Wed, 31 May 2023   Prob (F-statistic):            0.00869\n",
      "Time:                        12:13:42   Log-Likelihood:                -6481.1\n",
      "No. Observations:                 616   AIC:                         1.297e+04\n",
      "Df Residuals:                     614   BIC:                         1.298e+04\n",
      "Df Model:                           1                                         \n",
      "Covariance Type:            nonrobust                                         \n",
      "=================================================================================\n",
      "                    coef    std err          t      P>|t|      [0.025      0.975]\n",
      "---------------------------------------------------------------------------------\n",
      "const          1.612e+04    758.443     21.251      0.000    1.46e+04    1.76e+04\n",
      "median_pay(k)   131.4694     49.945      2.632      0.009      33.386     229.553\n",
      "==============================================================================\n",
      "Omnibus:                      446.265   Durbin-Watson:                   1.594\n",
      "Prob(Omnibus):                  0.000   Jarque-Bera (JB):               37.658\n",
      "Skew:                          -0.014   Prob(JB):                     6.65e-09\n",
      "Kurtosis:                       1.789   Cond. No.                         31.9\n",
      "==============================================================================\n",
      "\n",
      "Notes:\n",
      "[1] Standard Errors assume that the covariance matrix of the errors is correctly specified.\n"
     ]
    }
   ],
   "source": [
    "import statsmodels.api as sm\n",
    "\n",
    "#define response variable\n",
    "y = merged['votes']\n",
    "\n",
    "#define predictor variables\n",
    "x = merged['median_pay(k)']\n",
    "\n",
    "#add constant to predictor variables\n",
    "x = sm.add_constant(x)\n",
    "\n",
    "#fit linear regression model\n",
    "model = sm.OLS(y, x).fit()\n",
    "\n",
    "#view model summary\n",
    "print(model.summary())\n"
   ]
  },
  {
   "attachments": {},
   "cell_type": "markdown",
   "metadata": {},
   "source": [
    "and the R-squared is practically zero so we may not reject the null-hypothesis that there is no _linear_ relationship between votes and pay. However, the correlation noted above means that more investigation would be needed of other types of relationship."
   ]
  }
 ],
 "metadata": {
  "kernelspec": {
   "display_name": ".venv",
   "language": "python",
   "name": "python3"
  },
  "language_info": {
   "codemirror_mode": {
    "name": "ipython",
    "version": 3
   },
   "file_extension": ".py",
   "mimetype": "text/x-python",
   "name": "python",
   "nbconvert_exporter": "python",
   "pygments_lexer": "ipython3",
   "version": "3.11.0"
  },
  "orig_nbformat": 4,
  "polyglot_notebook": {
   "kernelInfo": {
    "defaultKernelName": "csharp",
    "items": [
     {
      "aliases": [],
      "name": "csharp"
     }
    ]
   }
  },
  "vscode": {
   "interpreter": {
    "hash": "6ef4d47957de33e50eb4f8853794adc2b0b98f1ec548c1869ac800de233b6dbe"
   }
  }
 },
 "nbformat": 4,
 "nbformat_minor": 2
}
